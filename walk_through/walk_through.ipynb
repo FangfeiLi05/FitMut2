{
 "cells": [
  {
   "cell_type": "markdown",
   "metadata": {},
   "source": [
    "# FitMut2.0\n",
    "In this notebook we walk through an example use case, generating data from simulation and then inferring fitness and establishment times. Though we expect most users will want to use our code to infer mutational parameters on their own experimental datasets, we include instructions on how to generate simulated data for the sake of completeness."
   ]
  },
  {
   "cell_type": "markdown",
   "metadata": {},
   "source": [
    "First we install the required Python packages (uncomment this line and run if necessary)"
   ]
  },
  {
   "cell_type": "code",
   "execution_count": 1,
   "metadata": {},
   "outputs": [],
   "source": [
    "# !pip install -r ../requirements.txt"
   ]
  },
  {
   "cell_type": "code",
   "execution_count": 2,
   "metadata": {},
   "outputs": [],
   "source": [
    "import numpy as np\n",
    "import pandas as pd\n",
    "import itertools\n",
    "import csv\n",
    "import os"
   ]
  },
  {
   "cell_type": "markdown",
   "metadata": {},
   "source": [
    "Then we generate the input files required to run a simulation. This includes the definition of $\\mu(s)$, which we can define as a histogram with frequencies and bins. We separately specify the overall mutations rate $\\int ds \\mu(s)$."
   ]
  },
  {
   "cell_type": "code",
   "execution_count": 3,
   "metadata": {},
   "outputs": [],
   "source": [
    "dir_sim = './'\n",
    "dir_code = '../main_code/'\n",
    "dir_result = './'\n",
    "\n",
    "delta_t = 8\n",
    "t_seq = np.arange(0, delta_t*15, delta_t)\n",
    "\n",
    "tmp_1 = {'0':t_seq, \n",
    "         '1':10*np.ones(np.shape(t_seq)), \n",
    "         '2':20*np.ones(np.shape(t_seq)), \n",
    "         '3':50*np.ones(np.shape(t_seq)), \n",
    "         '4':100*np.ones(np.shape(t_seq))}\n",
    "\n",
    "\n",
    "tmp = list(itertools.zip_longest(*list(tmp_1.values())))\n",
    "with open(dir_sim + 'simu_input_time_points.csv', 'w') as f:\n",
    "    w = csv.writer(f)\n",
    "    w.writerows(tmp)\n",
    "        \n",
    "        \n",
    "step_size = 0.001\n",
    "np.random.seed(5)\n",
    "s = np.random.exponential(0.045,100000) \n",
    "bins_edge = np.arange(0, 0.145, step_size)\n",
    "        \n",
    "freq_bin = np.histogram(s, bins=bins_edge, density=True)[0] * step_size\n",
    "input_test = {'0':[1e-5], '1':bins_edge, '2':freq_bin}\n",
    "tmp = list(itertools.zip_longest(*list(input_test.values())))\n",
    "with open(dir_sim + 'simu_input_mutation_fitness.csv', 'w') as f:\n",
    "    w = csv.writer(f)\n",
    "    w.writerows(tmp)\n"
   ]
  },
  {
   "cell_type": "markdown",
   "metadata": {},
   "source": [
    "Then we run the script `fitmutsimu_run.py` to generate simulated data."
   ]
  },
  {
   "cell_type": "code",
   "execution_count": 4,
   "metadata": {},
   "outputs": [
    {
     "data": {
      "text/plain": [
       "0"
      ]
     },
     "execution_count": 4,
     "metadata": {},
     "output_type": "execute_result"
    }
   ],
   "source": [
    "lineages_num = int(1e4)\n",
    "\n",
    "os.system('python3 {}fitmutsimu_run.py -l {} -t {}simu_input_time_points.csv -s {}\\\n",
    "simu_input_mutation_fitness.csv -o {}simu'.format(dir_code,lineages_num,dir_sim,dir_sim,dir_sim))"
   ]
  },
  {
   "cell_type": "markdown",
   "metadata": {},
   "source": [
    "Next, we generate the input files required to run the inference algorithm."
   ]
  },
  {
   "cell_type": "code",
   "execution_count": 5,
   "metadata": {},
   "outputs": [],
   "source": [
    "csv_input = pd.read_csv(dir_sim + 'simu_input_time_points.csv', low_memory=False, header=None)\n",
    "t_seq = np.array(csv_input[0][~pd.isnull(csv_input[0])], dtype=float)\n",
    "cell_num_average_bottleneck = 100\n",
    "t_delta = 8\n",
    "\n",
    "csv_input = pd.read_csv(dir_sim + 'simu_0_EvoSimulation_Read_Number.csv', low_memory=False, header=None)\n",
    "lineages_num = csv_input.shape[0]\n",
    " \n",
    "cell_depth_seq = cell_num_average_bottleneck*lineages_num*np.ones(t_seq.shape)*t_delta\n",
    "input_tmp = {'0':t_seq, '1':cell_depth_seq}\n",
    "tmp = list(itertools.zip_longest(*list(input_tmp.values())))\n",
    "with open(dir_result + 'fitmut_input_time_points.csv', 'w') as f:\n",
    "    w = csv.writer(f)\n",
    "    w.writerows(tmp)\n"
   ]
  },
  {
   "cell_type": "markdown",
   "metadata": {},
   "source": [
    "Finally we run the script `fitmut2_run.py` to detect adaptive mutations and infer their fitness effects and establishment time using simulated data."
   ]
  },
  {
   "cell_type": "code",
   "execution_count": 6,
   "metadata": {},
   "outputs": [
    {
     "data": {
      "text/plain": [
       "0"
      ]
     },
     "execution_count": 6,
     "metadata": {},
     "output_type": "execute_result"
    }
   ],
   "source": [
    "os.system('python3 {}fitmut2_run.py -i {}simu_3_EvoSimulation_Read_Number.csv -t {}\\\n",
    "fitmut_input_time_points.csv -o {}test'.format(dir_code,dir_sim,dir_result,dir_result))"
   ]
  },
  {
   "cell_type": "code",
   "execution_count": null,
   "metadata": {},
   "outputs": [],
   "source": []
  }
 ],
 "metadata": {
  "kernelspec": {
   "display_name": "Python 3",
   "language": "python",
   "name": "python3"
  },
  "language_info": {
   "codemirror_mode": {
    "name": "ipython",
    "version": 3
   },
   "file_extension": ".py",
   "mimetype": "text/x-python",
   "name": "python",
   "nbconvert_exporter": "python",
   "pygments_lexer": "ipython3",
   "version": "3.6.13"
  }
 },
 "nbformat": 4,
 "nbformat_minor": 4
}
